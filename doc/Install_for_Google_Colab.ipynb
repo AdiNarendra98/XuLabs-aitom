{
 "cells": [
  {
   "cell_type": "markdown",
   "metadata": {
    "id": "2BcT8d6jpEPK"
   },
   "source": [
    "**1. installation**"
   ]
  },
  {
   "cell_type": "code",
   "execution_count": null,
   "metadata": {
    "id": "9vU6ZWk9kgxS"
   },
   "outputs": [],
   "source": [
    "# install dependencies\n",
    "!sudo apt-get install python python3-dev fftw3-dev libblas3 liblapack3 libarmadillo-dev\n",
    "\n",
    "# clone the aitom repository and cd to aitom directory\n",
    "!mkdir /content/src\n",
    "%cd /content/src\n",
    "!git clone https://github.com/xulabs/aitom\n",
    "%cd aitom\n",
    "\n",
    "# install other dependencies using pip\n",
    "!pip install -r requirements.txt\n",
    "\n",
    "# clean && build library\n",
    "!sh clean.sh\n",
    "!sh build.sh\n",
    "print('Build complete')\n",
    "\n",
    "# go back to /content dir\n",
    "%cd /content"
   ]
  },
  {
   "cell_type": "markdown",
   "metadata": {},
   "source": [
    "**2. test installation**"
   ]
  },
  {
   "cell_type": "code",
   "execution_count": null,
   "metadata": {},
   "outputs": [],
   "source": [
    "# add path to the aitom library\n",
    "import sys\n",
    "sys.path.append('/content/src/aitom')\n",
    "\n",
    "# verify that the compiled library can be correctly imported\n",
    "import aitom.tomominer.core.core as core\n",
    "assert core.__file__ == '/content/src/aitom/aitom/tomominer/core/core.cpython-36m-x86_64-linux-gnu.so'\n",
    "assert 'combined_search' in set(dir(core))"
   ]
  }
 ],
 "metadata": {
  "colab": {
   "authorship_tag": "ABX9TyOzhPGVYE67LRFlkI1qzU8Z",
   "collapsed_sections": [],
   "mount_file_id": "1c6CJcAYFhrUPaKBDVRbPRjndziu9vbUn",
   "name": "AITom Install.ipynb",
   "provenance": []
  },
  "kernelspec": {
   "display_name": "Python 3",
   "language": "python",
   "name": "python3"
  },
  "language_info": {
   "codemirror_mode": {
    "name": "ipython",
    "version": 3
   },
   "file_extension": ".py",
   "mimetype": "text/x-python",
   "name": "python",
   "nbconvert_exporter": "python",
   "pygments_lexer": "ipython3",
   "version": "3.6.10"
  }
 },
 "nbformat": 4,
 "nbformat_minor": 1
}
