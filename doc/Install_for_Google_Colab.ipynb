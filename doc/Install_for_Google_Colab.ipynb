{
 "cells": [
  {
   "cell_type": "markdown",
   "metadata": {
    "id": "2BcT8d6jpEPK"
   },
   "source": [
    "**1. clone the aitom repository and `cd` to `aitom` directory**"
   ]
  },
  {
   "cell_type": "code",
   "execution_count": null,
   "metadata": {
    "id": "9vU6ZWk9kgxS"
   },
   "outputs": [],
   "source": [
    "!git clone https://github.com/xulabs/aitom\n",
    "%cd aitom"
   ]
  },
  {
   "cell_type": "markdown",
   "metadata": {
    "id": "cQpiArKxpZ5F"
   },
   "source": [
    "**2. install dependencies**"
   ]
  },
  {
   "cell_type": "code",
   "execution_count": null,
   "metadata": {
    "id": "PXTBOV_akFrp"
   },
   "outputs": [],
   "source": [
    "!sudo apt-get install python python3-dev fftw3-dev libblas3 liblapack3 libarmadillo-dev"
   ]
  },
  {
   "cell_type": "markdown",
   "metadata": {
    "id": "tSY9VzEfpoNx"
   },
   "source": [
    "**3. install other dependencies using pip**"
   ]
  },
  {
   "cell_type": "code",
   "execution_count": null,
   "metadata": {
    "id": "OLue8z_YkTmr"
   },
   "outputs": [],
   "source": [
    "!pip install -r requirements.txt"
   ]
  },
  {
   "cell_type": "markdown",
   "metadata": {
    "id": "K6TJ6aIpp6m-"
   },
   "source": [
    "**4. clean && build library**"
   ]
  },
  {
   "cell_type": "code",
   "execution_count": null,
   "metadata": {
    "id": "JPBUwQpIog-j"
   },
   "outputs": [],
   "source": [
    "!sh clean.sh\n",
    "!sh build.sh"
   ]
  },
  {
   "cell_type": "markdown",
   "metadata": {},
   "source": [
    "**5. test installation**"
   ]
  },
  {
   "cell_type": "code",
   "execution_count": null,
   "metadata": {},
   "outputs": [],
   "source": [
    "import aitom.tomominer.core.core as core\n",
    "print(core.__file__)\n",
    "dir(core)"
   ]
  },
  {
   "cell_type": "markdown",
   "metadata": {},
   "source": [
    "You should see result containing following contents\n",
    "\n",
    "`/content/aitom/aitom/tomominer/core/core.cpython-36m-x86_64-linux-gnu.so`\n",
    "\n",
    "`combined_search`"
   ]
  }
 ],
 "metadata": {
  "colab": {
   "authorship_tag": "ABX9TyOzhPGVYE67LRFlkI1qzU8Z",
   "collapsed_sections": [],
   "mount_file_id": "1c6CJcAYFhrUPaKBDVRbPRjndziu9vbUn",
   "name": "AITom Install.ipynb",
   "provenance": []
  },
  "kernelspec": {
   "display_name": "Python 3",
   "language": "python",
   "name": "python3"
  },
  "language_info": {
   "codemirror_mode": {
    "name": "ipython",
    "version": 3
   },
   "file_extension": ".py",
   "mimetype": "text/x-python",
   "name": "python",
   "nbconvert_exporter": "python",
   "pygments_lexer": "ipython3",
   "version": "3.6.10"
  }
 },
 "nbformat": 4,
 "nbformat_minor": 1
}
